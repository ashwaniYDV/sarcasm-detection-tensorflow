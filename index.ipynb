{
 "cells": [
  {
   "cell_type": "code",
   "execution_count": 65,
   "metadata": {},
   "outputs": [],
   "source": [
    "import json\n",
    "import tensorflow as tf\n",
    "import numpy as np\n",
    "import matplotlib.pyplot as plt\n",
    "import io\n",
    "\n",
    "from tensorflow.keras.preprocessing.text import Tokenizer\n",
    "from tensorflow.keras.preprocessing.sequence import pad_sequences"
   ]
  },
  {
   "cell_type": "code",
   "execution_count": 66,
   "metadata": {},
   "outputs": [],
   "source": [
    "vocab_size = 10000\n",
    "embedding_dim = 16\n",
    "max_length = 100\n",
    "trunc_type='post'\n",
    "padding_type='post'\n",
    "oov_tok = \"<OOV>\"\n",
    "training_size = 20000"
   ]
  },
  {
   "cell_type": "code",
   "execution_count": 67,
   "metadata": {},
   "outputs": [],
   "source": [
    "with open(\"./sarcasm.json\", 'r') as f:\n",
    "    datastore = json.load(f)\n",
    "\n",
    "sentences = []\n",
    "labels = []\n",
    "\n",
    "for item in datastore:\n",
    "    sentences.append(item['headline'])\n",
    "    labels.append(item['is_sarcastic'])"
   ]
  },
  {
   "cell_type": "code",
   "execution_count": 70,
   "metadata": {},
   "outputs": [
    {
     "name": "stdout",
     "output_type": "stream",
     "text": [
      "29657\n",
      "[  308 15115   679  3337  2298    48   382  2576 15116     6  2577  8434\n",
      "     0     0     0     0     0     0     0     0     0     0     0     0\n",
      "     0     0     0     0     0     0     0     0     0     0     0     0\n",
      "     0     0     0     0]\n",
      "(26709, 40)\n"
     ]
    }
   ],
   "source": [
    "tokenizer = Tokenizer(oov_token=\"<OOV>\")\n",
    "tokenizer.fit_on_texts(sentences)\n",
    "word_index = tokenizer.word_index\n",
    "sequences = tokenizer.texts_to_sequences(sentences)\n",
    "padded = pad_sequences(sequences, padding='post')\n",
    "\n",
    "print(len(word_index))\n",
    "print(padded[0])\n",
    "print(padded.shape)"
   ]
  },
  {
   "cell_type": "code",
   "execution_count": 71,
   "metadata": {},
   "outputs": [],
   "source": [
    "training_sentences = sentences[0:training_size]\n",
    "testing_sentences = sentences[training_size:]\n",
    "training_labels = labels[0:training_size]\n",
    "testing_labels = labels[training_size:]"
   ]
  },
  {
   "cell_type": "code",
   "execution_count": 72,
   "metadata": {},
   "outputs": [],
   "source": [
    "tokenizer = Tokenizer(num_words=vocab_size, oov_token=oov_tok)\n",
    "tokenizer.fit_on_texts(training_sentences)\n",
    "\n",
    "word_index = tokenizer.word_index\n",
    "\n",
    "training_sequences = tokenizer.texts_to_sequences(training_sentences)\n",
    "training_padded = pad_sequences(training_sequences, maxlen=max_length, padding=padding_type, truncating=trunc_type)\n",
    "\n",
    "testing_sequences = tokenizer.texts_to_sequences(testing_sentences)\n",
    "testing_padded = pad_sequences(testing_sequences, maxlen=max_length, padding=padding_type, truncating=trunc_type)"
   ]
  },
  {
   "cell_type": "code",
   "execution_count": 76,
   "metadata": {},
   "outputs": [
    {
     "name": "stdout",
     "output_type": "stream",
     "text": [
      "(20000, 100)\n",
      "(20000,)\n"
     ]
    }
   ],
   "source": [
    "# Need this block to get it to work with TensorFlow 2.x\n",
    "training_padded = np.array(training_padded)\n",
    "training_labels = np.array(training_labels)\n",
    "testing_padded = np.array(testing_padded)\n",
    "testing_labels = np.array(testing_labels)\n",
    "\n",
    "print(training_padded.shape)\n",
    "print(training_labels.shape)"
   ]
  },
  {
   "cell_type": "code",
   "execution_count": 77,
   "metadata": {},
   "outputs": [],
   "source": [
    "model = tf.keras.Sequential([\n",
    "    tf.keras.layers.Embedding(vocab_size, embedding_dim, input_length=max_length),\n",
    "    tf.keras.layers.GlobalAveragePooling1D(),\n",
    "    tf.keras.layers.Dense(24, activation='relu'),\n",
    "    tf.keras.layers.Dense(1, activation='sigmoid')\n",
    "])\n",
    "model.compile(loss='binary_crossentropy',optimizer='adam',metrics=['accuracy'])"
   ]
  },
  {
   "cell_type": "code",
   "execution_count": 78,
   "metadata": {},
   "outputs": [
    {
     "name": "stdout",
     "output_type": "stream",
     "text": [
      "Model: \"sequential_1\"\n",
      "_________________________________________________________________\n",
      "Layer (type)                 Output Shape              Param #   \n",
      "=================================================================\n",
      "embedding_1 (Embedding)      (None, 100, 16)           160000    \n",
      "_________________________________________________________________\n",
      "global_average_pooling1d_1 ( (None, 16)                0         \n",
      "_________________________________________________________________\n",
      "dense_2 (Dense)              (None, 24)                408       \n",
      "_________________________________________________________________\n",
      "dense_3 (Dense)              (None, 1)                 25        \n",
      "=================================================================\n",
      "Total params: 160,433\n",
      "Trainable params: 160,433\n",
      "Non-trainable params: 0\n",
      "_________________________________________________________________\n"
     ]
    }
   ],
   "source": [
    "model.summary()"
   ]
  },
  {
   "cell_type": "code",
   "execution_count": 79,
   "metadata": {},
   "outputs": [
    {
     "name": "stdout",
     "output_type": "stream",
     "text": [
      "Epoch 1/30\n",
      "625/625 - 3s - loss: 0.6658 - accuracy: 0.5933 - val_loss: 0.5829 - val_accuracy: 0.7216\n",
      "Epoch 2/30\n",
      "625/625 - 3s - loss: 0.4381 - accuracy: 0.8316 - val_loss: 0.3858 - val_accuracy: 0.8381\n",
      "Epoch 3/30\n",
      "625/625 - 3s - loss: 0.3146 - accuracy: 0.8753 - val_loss: 0.3632 - val_accuracy: 0.8383\n",
      "Epoch 4/30\n",
      "625/625 - 3s - loss: 0.2638 - accuracy: 0.8971 - val_loss: 0.3405 - val_accuracy: 0.8575\n",
      "Epoch 5/30\n",
      "625/625 - 3s - loss: 0.2268 - accuracy: 0.9126 - val_loss: 0.3472 - val_accuracy: 0.8484\n",
      "Epoch 6/30\n",
      "625/625 - 3s - loss: 0.1993 - accuracy: 0.9237 - val_loss: 0.3488 - val_accuracy: 0.8527\n",
      "Epoch 7/30\n",
      "625/625 - 3s - loss: 0.1793 - accuracy: 0.9314 - val_loss: 0.3561 - val_accuracy: 0.8532\n",
      "Epoch 8/30\n",
      "625/625 - 3s - loss: 0.1582 - accuracy: 0.9420 - val_loss: 0.3895 - val_accuracy: 0.8487\n",
      "Epoch 9/30\n",
      "625/625 - 3s - loss: 0.1438 - accuracy: 0.9487 - val_loss: 0.3917 - val_accuracy: 0.8530\n",
      "Epoch 10/30\n",
      "625/625 - 3s - loss: 0.1309 - accuracy: 0.9534 - val_loss: 0.4052 - val_accuracy: 0.8514\n",
      "Epoch 11/30\n",
      "625/625 - 3s - loss: 0.1177 - accuracy: 0.9595 - val_loss: 0.4263 - val_accuracy: 0.8493\n",
      "Epoch 12/30\n",
      "625/625 - 3s - loss: 0.1074 - accuracy: 0.9640 - val_loss: 0.4526 - val_accuracy: 0.8444\n",
      "Epoch 13/30\n",
      "625/625 - 3s - loss: 0.0990 - accuracy: 0.9657 - val_loss: 0.4959 - val_accuracy: 0.8386\n",
      "Epoch 14/30\n",
      "625/625 - 3s - loss: 0.0909 - accuracy: 0.9693 - val_loss: 0.5024 - val_accuracy: 0.8398\n",
      "Epoch 15/30\n",
      "625/625 - 3s - loss: 0.0817 - accuracy: 0.9737 - val_loss: 0.5227 - val_accuracy: 0.8386\n",
      "Epoch 16/30\n",
      "625/625 - 3s - loss: 0.0761 - accuracy: 0.9754 - val_loss: 0.5653 - val_accuracy: 0.8360\n",
      "Epoch 17/30\n",
      "625/625 - 3s - loss: 0.0712 - accuracy: 0.9758 - val_loss: 0.5916 - val_accuracy: 0.8353\n",
      "Epoch 18/30\n",
      "625/625 - 3s - loss: 0.0633 - accuracy: 0.9797 - val_loss: 0.6067 - val_accuracy: 0.8341\n",
      "Epoch 19/30\n",
      "625/625 - 3s - loss: 0.0597 - accuracy: 0.9811 - val_loss: 0.6358 - val_accuracy: 0.8329\n",
      "Epoch 20/30\n",
      "625/625 - 3s - loss: 0.0538 - accuracy: 0.9844 - val_loss: 0.6755 - val_accuracy: 0.8323\n",
      "Epoch 21/30\n",
      "625/625 - 3s - loss: 0.0526 - accuracy: 0.9837 - val_loss: 0.7297 - val_accuracy: 0.8274\n",
      "Epoch 22/30\n",
      "625/625 - 2s - loss: 0.0459 - accuracy: 0.9880 - val_loss: 0.7499 - val_accuracy: 0.8290\n",
      "Epoch 23/30\n",
      "625/625 - 3s - loss: 0.0427 - accuracy: 0.9880 - val_loss: 0.7705 - val_accuracy: 0.8261\n",
      "Epoch 24/30\n",
      "625/625 - 2s - loss: 0.0400 - accuracy: 0.9883 - val_loss: 0.8192 - val_accuracy: 0.8241\n",
      "Epoch 25/30\n",
      "625/625 - 2s - loss: 0.0366 - accuracy: 0.9897 - val_loss: 0.8275 - val_accuracy: 0.8226\n",
      "Epoch 26/30\n",
      "625/625 - 2s - loss: 0.0343 - accuracy: 0.9902 - val_loss: 0.8680 - val_accuracy: 0.8223\n",
      "Epoch 27/30\n",
      "625/625 - 2s - loss: 0.0308 - accuracy: 0.9916 - val_loss: 0.9531 - val_accuracy: 0.8165\n",
      "Epoch 28/30\n",
      "625/625 - 2s - loss: 0.0287 - accuracy: 0.9924 - val_loss: 0.9422 - val_accuracy: 0.8179\n",
      "Epoch 29/30\n",
      "625/625 - 2s - loss: 0.0279 - accuracy: 0.9923 - val_loss: 0.9759 - val_accuracy: 0.8164\n",
      "Epoch 30/30\n",
      "625/625 - 2s - loss: 0.0255 - accuracy: 0.9934 - val_loss: 1.0205 - val_accuracy: 0.8146\n"
     ]
    }
   ],
   "source": [
    "num_epochs = 30\n",
    "history = model.fit(training_padded, training_labels, epochs=num_epochs, \n",
    "                    validation_data=(testing_padded, testing_labels), verbose=2)"
   ]
  },
  {
   "cell_type": "code",
   "execution_count": 80,
   "metadata": {},
   "outputs": [
    {
     "data": {
      "image/png": "[encoded data removed]",
      "text/plain": [
       "<Figure size 432x288 with 1 Axes>"
      ]
     },
     "metadata": {
      "needs_background": "light"
     },
     "output_type": "display_data"
    },
    {
     "data": {
      "image/png": "[encoded data removed]",
      "text/plain": [
       "<Figure size 432x288 with 1 Axes>"
      ]
     },
     "metadata": {
      "needs_background": "light"
     },
     "output_type": "display_data"
    }
   ],
   "source": [
    "def plot_graphs(history, string):\n",
    "  plt.plot(history.history[string])\n",
    "  plt.plot(history.history['val_'+string])\n",
    "  plt.xlabel(\"Epochs\")\n",
    "  plt.ylabel(string)\n",
    "  plt.legend([string, 'val_'+string])\n",
    "  plt.show()\n",
    "  \n",
    "plot_graphs(history, \"accuracy\")\n",
    "plot_graphs(history, \"loss\")"
   ]
  },
  {
   "cell_type": "code",
   "execution_count": 81,
   "metadata": {},
   "outputs": [
    {
     "name": "stdout",
     "output_type": "stream",
     "text": [
      "former <OOV> store clerk sues over secret 'black <OOV> for minority shoppers ? ? ? ? ? ? ? ? ? ? ? ? ? ? ? ? ? ? ? ? ? ? ? ? ? ? ? ? ? ? ? ? ? ? ? ? ? ? ? ? ? ? ? ? ? ? ? ? ? ? ? ? ? ? ? ? ? ? ? ? ? ? ? ? ? ? ? ? ? ? ? ? ? ? ? ? ? ? ? ? ? ? ? ? ? ? ? ?\n",
      "mom starting to fear son's web series closest thing she will have to grandchild\n",
      "1\n"
     ]
    }
   ],
   "source": [
    "reverse_word_index = dict([(value, key) for (key, value) in word_index.items()])\n",
    "\n",
    "def decode_sentence(text):\n",
    "    return ' '.join([reverse_word_index.get(i, '?') for i in text])\n",
    "\n",
    "print(decode_sentence(training_padded[0]))\n",
    "print(training_sentences[2])\n",
    "print(labels[2])"
   ]
  },
  {
   "cell_type": "code",
   "execution_count": 82,
   "metadata": {},
   "outputs": [
    {
     "name": "stdout",
     "output_type": "stream",
     "text": [
      "(10000, 16)\n"
     ]
    }
   ],
   "source": [
    "e = model.layers[0]\n",
    "weights = e.get_weights()[0]\n",
    "print(weights.shape) # shape: (vocab_size, embedding_dim)"
   ]
  },
  {
   "cell_type": "code",
   "execution_count": 83,
   "metadata": {},
   "outputs": [],
   "source": [
    "out_v = io.open('vecs.tsv', 'w', encoding='utf-8')\n",
    "out_m = io.open('meta.tsv', 'w', encoding='utf-8')\n",
    "for word_num in range(1, vocab_size):\n",
    "  word = reverse_word_index[word_num]\n",
    "  embeddings = weights[word_num]\n",
    "  out_m.write(word + \"\\n\")\n",
    "  out_v.write('\\t'.join([str(x) for x in embeddings]) + \"\\n\")\n",
    "out_v.close()\n",
    "out_m.close()"
   ]
  },
  {
   "cell_type": "code",
   "execution_count": 84,
   "metadata": {},
   "outputs": [
    {
     "name": "stdout",
     "output_type": "stream",
     "text": [
      "[[9.8976851e-01]\n",
      " [5.0607324e-04]]\n"
     ]
    }
   ],
   "source": [
    "sentence = [\"granny starting to fear spiders in the garden might be real\", \"game of thrones season finale showing this sunday night\"]\n",
    "sequences = tokenizer.texts_to_sequences(sentence)\n",
    "padded = pad_sequences(sequences, maxlen=max_length, padding=padding_type, truncating=trunc_type)\n",
    "print(model.predict(padded))"
   ]
  },
  {
   "cell_type": "code",
   "execution_count": null,
   "metadata": {},
   "outputs": [],
   "source": []
  }
 ],
 "metadata": {
  "kernelspec": {
   "display_name": "Python 3",
   "language": "python",
   "name": "python3"
  },
  "language_info": {
   "codemirror_mode": {
    "name": "ipython",
    "version": 3
   },
   "file_extension": ".py",
   "mimetype": "text/x-python",
   "name": "python",
   "nbconvert_exporter": "python",
   "pygments_lexer": "ipython3",
   "version": "3.8.3"
  }
 },
 "nbformat": 4,
 "nbformat_minor": 4
}
